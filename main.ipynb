{
 "cells": [
  {
   "metadata": {},
   "cell_type": "markdown",
   "source": "Murat Tut",
   "id": "e6b44ca7f61458a1"
  },
  {
   "cell_type": "code",
   "id": "initial_id",
   "metadata": {
    "collapsed": true,
    "ExecuteTime": {
     "end_time": "2025-01-02T16:46:18.198546Z",
     "start_time": "2025-01-02T16:46:18.193032Z"
    }
   },
   "source": [
    "import torch.nn as nn\n",
    "import torch\n",
    "from sklearn.model_selection import train_test_split\n",
    "from torchvision import models\n",
    "from torchvision.models import efficientnet_v2_s\n",
    "from torchvision.transforms import v2\n",
    "from torchvision import datasets\n",
    "from tqdm.auto import tqdm\n",
    "from torch.optim.lr_scheduler import StepLR\n",
    "import numpy as np\n",
    "from torchvision.models import EfficientNet_V2_S_Weights, ResNet50_Weights\n",
    "from vit_pytorch import ViT\n",
    "from sklearn.metrics import f1_score, cohen_kappa_score\n",
    "import torch.nn.functional as F\n",
    "\n",
    "import random\n",
    "\n",
    "\n",
    "Torch_train_dtype = torch.bfloat16\n",
    "\n",
    "#PYTORCH_MPS_HIGH_WATERMARK_RATIO=0.0 # mps de memory overflow hatası alıyorsanız bu satırı ekleyin colabde mps yok\n"
   ],
   "outputs": [],
   "execution_count": 18
  },
  {
   "metadata": {},
   "cell_type": "raw",
   "source": [
    "# Gerekirse Google Drive'ı bağlamak için\n",
    "from google.colab import drive\n",
    "drive.mount('/content/drive')"
   ],
   "id": "a26e943bad72d596"
  },
  {
   "metadata": {
    "ExecuteTime": {
     "end_time": "2025-01-02T16:46:18.210687Z",
     "start_time": "2025-01-02T16:46:18.204818Z"
    }
   },
   "cell_type": "code",
   "source": [
    "class LabelSmoothingCrossEntropy(nn.Module):\n",
    "    def __init__(self, smoothing=0.1):\n",
    "        super(LabelSmoothingCrossEntropy, self).__init__()\n",
    "        self.smoothing = smoothing\n",
    "\n",
    "    def forward(self, inputs, targets):\n",
    "        log_probs = torch.log_softmax(inputs, dim=-1)\n",
    "        targets = torch.zeros_like(log_probs).scatter_(1, targets.unsqueeze(1), 1)\n",
    "        targets = (1 - self.smoothing) * targets + self.smoothing / inputs.size(1)\n",
    "        loss = (-targets * log_probs).mean()\n",
    "        return loss\n",
    "class DiceLoss(nn.Module):\n",
    "    def __init__(self):\n",
    "        super(DiceLoss, self).__init__()\n",
    "\n",
    "    def forward(self, inputs, targets, epsilon=1e-7):\n",
    "        inputs = torch.softmax(inputs, dim=1)\n",
    "        targets_one_hot = torch.zeros_like(inputs).scatter_(1, targets.unsqueeze(1), 1)\n",
    "        intersection = torch.sum(inputs * targets_one_hot)\n",
    "        union = torch.sum(inputs + targets_one_hot)\n",
    "        dice_loss = 1 - (2. * intersection + epsilon) / (union + epsilon)\n",
    "        return dice_loss\n",
    "class KappaLoss(nn.Module):\n",
    "    def __init__(self, num_classes):\n",
    "        super(KappaLoss, self).__init__()\n",
    "        self.num_classes = num_classes\n",
    "\n",
    "    def forward(self, inputs, targets):\n",
    "        y_pred = torch.softmax(inputs, dim=1)\n",
    "        targets_one_hot = torch.zeros_like(y_pred).scatter_(1, targets.unsqueeze(1), 1)\n",
    "        observed = torch.sum(targets_one_hot * y_pred, dim=0)\n",
    "        expected = torch.sum(y_pred, dim=0) * torch.sum(targets_one_hot, dim=0) / targets.size(0)\n",
    "        kappa_loss = 1 - torch.sum((observed - expected)**2 / (expected + 1e-7))\n",
    "        return kappa_loss\n",
    "class TverskyLoss(nn.Module):\n",
    "    def __init__(self, alpha=0.5, beta=0.5):\n",
    "        super(TverskyLoss, self).__init__()\n",
    "        self.alpha = alpha\n",
    "        self.beta = beta\n",
    "\n",
    "    def forward(self, inputs, targets):\n",
    "        inputs = torch.softmax(inputs, dim=1)\n",
    "        targets_one_hot = torch.zeros_like(inputs).scatter_(1, targets.unsqueeze(1), 1)\n",
    "        tp = torch.sum(inputs * targets_one_hot)\n",
    "        fp = torch.sum(inputs * (1 - targets_one_hot))\n",
    "        fn = torch.sum((1 - inputs) * targets_one_hot)\n",
    "        tversky_loss = 1 - (tp / (tp + self.alpha * fp + self.beta * fn + 1e-7))\n",
    "        return tversky_loss\n",
    "class LabelSmoothingCrossEntropy(nn.Module):\n",
    "    def __init__(self, smoothing=0.1):\n",
    "        super(LabelSmoothingCrossEntropy, self).__init__()\n",
    "        self.smoothing = smoothing\n",
    "\n",
    "    def forward(self, inputs, targets):\n",
    "        log_probs = torch.log_softmax(inputs, dim=-1)\n",
    "        targets = torch.zeros_like(log_probs).scatter_(1, targets.unsqueeze(1), 1)\n",
    "        targets = (1 - self.smoothing) * targets + self.smoothing / inputs.size(1)\n",
    "        loss = (-targets * log_probs).mean()\n",
    "        return loss"
   ],
   "id": "a1e03078584d877d",
   "outputs": [],
   "execution_count": 19
  },
  {
   "metadata": {
    "ExecuteTime": {
     "end_time": "2025-01-02T16:46:18.249417Z",
     "start_time": "2025-01-02T16:46:18.242840Z"
    }
   },
   "cell_type": "code",
   "source": [
    "def train(model, train_loader, test_loader, num_epochs=None, show_progress=False):\n",
    "    loss_fn = nn.CrossEntropyLoss(weight=class_weights.to(device))\n",
    "    #loss_fn = dice_loss\n",
    "    #loss_fn = LabelSmoothingCrossEntropy()\n",
    "    #loss_fn = DiceLoss()\n",
    "    #loss_fn = nn.CrossEntropyLoss()\n",
    "    optimizer = torch.optim.Adam(model.parameters(), lr=0.001)\n",
    "    #optimizer = torch.optim.AdamW(model.parameters(), lr=1e-3, weight_decay=1e-2)\n",
    "    #scheduler = StepLR(optimizer, step_size=5, gamma=0.1)  # Her *** epoch'ta LR %10'a düşer overfittin ihtimalini azaltmak için yinede cok random bir parametre olmasada olur\n",
    "\n",
    "    total_accuracy = 0\n",
    "\n",
    "    # overfitting i engellemek için en iyi modeli seciyor\n",
    "    best_model = {\"model\": None, \"accuracy\": 0, \"test_loss\": float(\"inf\")}\n",
    "    for epoch in range(num_epochs):\n",
    "        model.train()  # Set model to training mode\n",
    "        train_loss = 0.0\n",
    "\n",
    "        # Training loop\n",
    "        for inputs, labels in tqdm(train_loader, desc=\"Training Progress\"):\n",
    "\n",
    "            inputs, labels = inputs.to(device), labels.to(device)\n",
    "\n",
    "            optimizer.zero_grad()\n",
    "            outputs = model(inputs)\n",
    "            loss = loss_fn(outputs, labels)\n",
    "            loss.backward()\n",
    "            optimizer.step()\n",
    "\n",
    "            train_loss += loss.item()\n",
    "\n",
    "        # Evaluation\n",
    "        model.eval()  # Set model to evaluation mode\n",
    "        test_loss = 0.0\n",
    "        correct = 0\n",
    "        total = 0\n",
    "        all_labels = []\n",
    "        all_predictions = []\n",
    "        with torch.no_grad(): # Gradients are not calculated in this block\n",
    "            for inputs, labels in test_loader:\n",
    "                inputs, labels = inputs.to(device), labels.to(device)\n",
    "                outputs = model(inputs)\n",
    "                loss = loss_fn(outputs, labels)\n",
    "                test_loss += loss.item()\n",
    "\n",
    "                # Calculate accuracy\n",
    "                _, predicted = torch.max(outputs, 1)\n",
    "                total += labels.size(0)\n",
    "                correct += (predicted == labels).sum().item()\n",
    "\n",
    "                # Store labels and predictions for metrics\n",
    "                all_labels.extend(labels.cpu().numpy())\n",
    "                all_predictions.extend(predicted.cpu().numpy())\n",
    "\n",
    "        train_loss /= len(train_loader)  # Average training loss\n",
    "        test_loss /= len(test_loader)  # Average test loss\n",
    "        accuracy = 100 * correct / total  # Test accuracy\n",
    "        total_accuracy += accuracy\n",
    "\n",
    "        # Calculate F1 score and Cohen's Kappa\n",
    "        f1 = f1_score(all_labels, all_predictions, average='weighted')\n",
    "        kappa = cohen_kappa_score(all_labels, all_predictions)\n",
    "\n",
    "\n",
    "        if show_progress:\n",
    "            print(f\"Epoch {epoch+1}/{num_epochs}, Training Loss: {train_loss:.4f}, Test Loss: {test_loss:.4f}, Accuracy: {accuracy:.2f}%, F1 Score: {f1:.4f}, Cohen's Kappa: {kappa:.4f}\")\n",
    "\n",
    "        #scheduler.step()\n",
    "\n",
    "        if accuracy >= best_model[\"accuracy\"]:\n",
    "            best_model[\"model\"] = model\n",
    "            best_model[\"accuracy\"] = accuracy\n",
    "            best_model[\"test_loss\"] = test_loss\n",
    "\n",
    "    print(f\"Best model accuracy: {best_model['accuracy']}\")\n",
    "\n",
    "    return best_model[\"model\"], best_model[\"accuracy\"]"
   ],
   "id": "886098f53fb4b256",
   "outputs": [],
   "execution_count": 20
  },
  {
   "metadata": {
    "ExecuteTime": {
     "end_time": "2025-01-02T16:46:18.271295Z",
     "start_time": "2025-01-02T16:46:18.267420Z"
    }
   },
   "cell_type": "code",
   "source": [
    "def modify_first_conv_layer_efnet(model, num_channels):\n",
    "    # Get the original first convolutional layer\n",
    "    original_conv1 = model.features[0][0]\n",
    "\n",
    "    # Create a new convolutional layer with the specified number of input channels\n",
    "    new_conv1 = nn.Conv2d(\n",
    "        in_channels=num_channels,  # Updated input channels\n",
    "        out_channels=original_conv1.out_channels,\n",
    "        kernel_size=original_conv1.kernel_size,\n",
    "        stride=original_conv1.stride,\n",
    "        padding=original_conv1.padding,\n",
    "        bias=original_conv1.bias is not None\n",
    "    )\n",
    "\n",
    "    # Copy the weights for the first min(3, num_channels) channels\n",
    "    new_conv1.weight.data[:, :min(3, num_channels), :, :] = original_conv1.weight.data[:, :min(3, num_channels), :, :]\n",
    "\n",
    "    # Initialize any additional channels with zeros\n",
    "    if num_channels > 3:\n",
    "        new_conv1.weight.data[:, 3:num_channels, :, :] = torch.zeros_like(new_conv1.weight.data[:, 3:num_channels, :, :])\n",
    "\n",
    "    # Replace the original convolutional layer with the modified one\n",
    "    model.features[0][0] = new_conv1\n",
    "\n",
    "    return model\n",
    "\n",
    "def modify_first_conv_layer_resnet(model, num_channels):\n",
    "    # Get the original first convolutional layer\n",
    "    original_conv1 = model.conv1\n",
    "\n",
    "    # Create a new convolutional layer with the specified number of input channels\n",
    "    new_conv1 = nn.Conv2d(\n",
    "        in_channels=num_channels,  # Updated input channels\n",
    "        out_channels=original_conv1.out_channels,\n",
    "        kernel_size=original_conv1.kernel_size,\n",
    "        stride=original_conv1.stride,\n",
    "        padding=original_conv1.padding,\n",
    "        bias=original_conv1.bias is not None\n",
    "    )\n",
    "\n",
    "    # Copy the weights for the first min(3, num_channels) channels\n",
    "    new_conv1.weight.data[:, :min(3, num_channels), :, :] = original_conv1.weight.data[:, :min(3, num_channels), :, :]\n",
    "\n",
    "    # Initialize any additional channels with zeros\n",
    "    if num_channels > 3:\n",
    "        new_conv1.weight.data[:, 3:num_channels, :, :] = 0\n",
    "\n",
    "    # Replace the original convolutional layer with the modified one\n",
    "    model.conv1 = new_conv1\n",
    "\n",
    "    return model"
   ],
   "id": "fed18e2c12148dcc",
   "outputs": [],
   "execution_count": 21
  },
  {
   "metadata": {
    "ExecuteTime": {
     "end_time": "2025-01-02T16:46:18.292267Z",
     "start_time": "2025-01-02T16:46:18.286768Z"
    }
   },
   "cell_type": "code",
   "source": [
    "from skimage.feature import graycomatrix, graycoprops\n",
    "import cv2\n",
    "from torchvision.transforms import functional as F\n",
    "\n",
    "class CustomTransform:\n",
    "    \"\"\"Custom transform to add edges detected by Canny as the 4th channel.\"\"\"\n",
    "    def __call__(self, image):\n",
    "        # convert the image to a numpy array\n",
    "        image_np = np.array(image)\n",
    "        # remove top 200 pixels\n",
    "        image_np = image_np_original = image_np[200:, :, :]\n",
    "\n",
    "        # convert the image to grayscale\n",
    "        image_np_gray = cv2.cvtColor(image_np, cv2.COLOR_RGB2GRAY)\n",
    "\n",
    "        # Apply CLAHE (Contrast Limited Adaptive Histogram Equalization)\n",
    "        clahe = cv2.createCLAHE(clipLimit=2.0, tileGridSize=(8, 8))\n",
    "        clahe_image = clahe.apply(image_np_gray)\n",
    "\n",
    "        # Apply HSV (Hue, Saturation, Value) color space\n",
    "        hsv_image = cv2.cvtColor(image_np, cv2.COLOR_RGB2HSV)\n",
    "        h, s, v = cv2.split(hsv_image)\n",
    "\n",
    "        # Apply Histogram Equalization\n",
    "        hist_eq = cv2.equalizeHist(image_np_gray)\n",
    "\n",
    "        # Apply GlCM (Gray-Level Co-occurrence Matrix)\n",
    "        glcm = graycomatrix(image_np_gray, distances=[1], angles=[0], levels=256, symmetric=True, normed=True)\n",
    "        contrast = graycoprops(glcm, 'contrast')[0, 0]\n",
    "        correlation = graycoprops(glcm, 'correlation')[0, 0]\n",
    "        energy = graycoprops(glcm, 'energy')[0, 0]\n",
    "        homogeneity = graycoprops(glcm, 'homogeneity')[0, 0]\n",
    "\n",
    "        contrast_channel = np.full_like(image_np[:, :, 0], contrast)\n",
    "        correlation_channel = np.full_like(image_np[:, :, 0], correlation)\n",
    "        energy_channel = np.full_like(image_np[:, :, 0], energy)\n",
    "        homogeneity_channel = np.full_like(image_np[:, :, 0], homogeneity)\n",
    "\n",
    "        # Apply sharpening\n",
    "        \"\"\"kernel = np.array([[0, -1, 0],\n",
    "                       [-1, 5, -1],\n",
    "                       [0, -1, 0]])\n",
    "\n",
    "        sharpened = cv2.filter2D(image_np_original, -1, kernel)\"\"\"\n",
    "\n",
    "        # apply Canny edge detection\n",
    "        edges = cv2.Canny(image_np_gray, 50, 150)\n",
    "\n",
    "        # add edges as the 4th channel\n",
    "        image_np = np.dstack((image_np, edges))\n",
    "\n",
    "        # add CLAHE as the 5th channel\n",
    "        image_np = np.dstack((image_np, clahe_image))\n",
    "\n",
    "        # add HSV as the 6th, 7th, and 8th channels\n",
    "        image_np = np.dstack((image_np, h, s, v))\n",
    "\n",
    "        # add Histogram Equalization as the 9th channel\n",
    "        image_np = np.dstack((image_np, hist_eq))\n",
    "\n",
    "        # add GlCM properties as the 10th, 11th, 12th, and 13th channels\n",
    "        image_np = np.dstack((image_np, contrast_channel, correlation_channel, energy_channel, homogeneity_channel))\n",
    "\n",
    "        # convert uint8 to float32\n",
    "        image_np = image_np.astype(np.float32)\n",
    "\n",
    "        # normalize the image\n",
    "        image_np = image_np / 255.0\n",
    "\n",
    "        # applay gray world algorithm\n",
    "        mean_r = np.mean(image_np[:, :, 0])\n",
    "        mean_g = np.mean(image_np[:, :, 1])\n",
    "        mean_b = np.mean(image_np[:, :, 2])\n",
    "        mean_gray = (mean_r + mean_g + mean_b) / 3\n",
    "\n",
    "        image_np[:, :, 0] *= mean_gray / mean_r\n",
    "        image_np[:, :, 1] *= mean_gray / mean_g\n",
    "        image_np[:, :, 2] *= mean_gray / mean_b\n",
    "\n",
    "        # convert the image to a tensor\n",
    "        image = F.to_tensor(image_np)\n",
    "\n",
    "        # rezise the image\n",
    "        image = F.resize(image, ([224, 224]))\n",
    "\n",
    "        # normalize the image\n",
    "        channel_size = image.size(0)\n",
    "\n",
    "        if channel_size == 3:\n",
    "            image = F.normalize(image, mean=[0.485, 0.456, 0.406], std=[0.229, 0.224, 0.225])\n",
    "            image = image.to(Torch_train_dtype)\n",
    "            return image\n",
    "        elif channel_size > 3:\n",
    "            mean = [0.485, 0.456, 0.406] + [0.0] * (channel_size - 3)\n",
    "            std = [0.229, 0.224, 0.225] + [1.0] * (channel_size - 3)\n",
    "            image = F.normalize(image, mean=mean, std=std)\n",
    "            image = image.to(Torch_train_dtype)\n",
    "            return image\n",
    "        else:\n",
    "            raise ValueError(\"The number of channels must be at least 3. for cnn models\")"
   ],
   "id": "c1bcba5e1d362371",
   "outputs": [],
   "execution_count": 22
  },
  {
   "metadata": {
    "ExecuteTime": {
     "end_time": "2025-01-02T16:46:18.322729Z",
     "start_time": "2025-01-02T16:46:18.319130Z"
    }
   },
   "cell_type": "code",
   "source": [
    "# Load the dataset from local directory\n",
    "data_dir = \"dataset/\"\n",
    "\n",
    "# For colab you can use this path or you can use your own path\n",
    "#data_dir = \"drive/MyDrive/dataset/\"\n",
    "if torch.cuda.is_available():\n",
    "    device = torch.device(\"cuda\")\n",
    "elif torch.mps.is_available():\n",
    "    device = torch.device(\"mps\") # mps is for apple\n",
    "else:\n",
    "    # if you use cpu probably you will get memory error or it will take too long time\n",
    "    device = torch.device(\"cpu\")\n",
    "\n",
    "def load_data(data_dir, seed):\n",
    "    # data augmentations\n",
    "    #v2.RandomHorizontalFlip(p=0.5),# Yatay çevirme\n",
    "    #v2.RandomRotation(degrees=15), # Hafif döndürme\n",
    "    #v2.RandomAffine(degrees=0, translate=(0.1, 0.1)),  # Rastgele kaydırma\n",
    "    #v2.ColorJitter(brightness=0.1, contrast=0.1, saturation=0.1, hue=0.05),  # Renk artırma\n",
    "    #v2.GaussianBlur(kernel_size=(5, 9), sigma=(0.1, 2.0)),  # Gaussian bulanıklık\n",
    "    #v2.RandomResizedCrop((224, 224), scale=(0.8, 1.0)),  # Rastgele kırpma\n",
    "    #v2.RandomErasing(p=0.3, scale=(0.02, 0.1), ratio=(0.3, 3.3)),  # Rastgele silme\n",
    "\n",
    "    transform = v2.Compose([\n",
    "        # if you want to use the default transforms you can use this line\n",
    "        #v2.ToImage(),\n",
    "        #v2.Resize((224, 224)),\n",
    "        #v2.ToDtype(Torch_train_dtype, scale=True),\n",
    "\n",
    "        # if you want do not use the default transforms you can use this line\n",
    "        CustomTransform(),\n",
    "\n",
    "        # if you used Torch_train_dtype = torch.bfloat16 you will get an error because of augmentation so please use this line Torch_train_dtype = torch.float32\n",
    "    ])\n",
    "\n",
    "    dataset = datasets.ImageFolder(data_dir, transform=transform)\n",
    "    train_dataset, test_dataset = train_test_split(dataset, test_size=0.33, stratify=dataset.targets, random_state=seed)\n",
    "    train_dataloader = torch.utils.data.DataLoader(train_dataset, batch_size=32, shuffle=True)\n",
    "    test_dataloader = torch.utils.data.DataLoader(test_dataset, batch_size=32, shuffle=False)\n",
    "\n",
    "    # burada classlar arasında eşitsizlik olduğundan classlar arasında dengesizlik olabilir. Bu durumda classlar arasında dengesizliği gidermek için cross entropy loss fonksiyonuna class_weights parametresi ekledim.\n",
    "    class_counts = np.bincount(dataset.targets)\n",
    "    class_weights = 1.0 / torch.tensor(class_counts, dtype=Torch_train_dtype)\n",
    "\n",
    "    class_weights = class_weights / class_weights.sum() * len(class_counts)\n",
    "    class_weights = class_weights.to(device)\n",
    "\n",
    "    return train_dataloader, test_dataloader, class_weights"
   ],
   "id": "59f2b991319ae85d",
   "outputs": [],
   "execution_count": 23
  },
  {
   "metadata": {
    "ExecuteTime": {
     "end_time": "2025-01-02T16:54:38.729256Z",
     "start_time": "2025-01-02T16:46:18.343070Z"
    }
   },
   "cell_type": "code",
   "source": [
    "# Load the pre-trained model\n",
    "#from vit_pytorch import ViT\n",
    "\n",
    "models_accuracys = []\n",
    "best_model = {\"model\": None, \"accuracy\": 0}\n",
    "\n",
    "for epoch in tqdm(range(5)):\n",
    "    import random\n",
    "    seed = random.randint(0, 100)\n",
    "    random.seed(seed)\n",
    "    np.random.seed(seed)\n",
    "    torch.manual_seed(seed)\n",
    "    torch.mps.manual_seed(seed)\n",
    "\n",
    "    train_dataloader, test_dataloader, class_weights = load_data(data_dir, seed=seed)\n",
    "\n",
    "    #model = models.resnet50(weights=ResNet50_Weights.DEFAULT).to(device)\n",
    "    #model = modify_first_conv_layer_resnet(model, 13)\n",
    "    #model.fc = nn.Linear(model.fc.in_features, 3).to(device)\n",
    "\n",
    "    model = models.efficientnet_v2_s(weights=EfficientNet_V2_S_Weights.DEFAULT).to(device)\n",
    "    model = modify_first_conv_layer_efnet(model, 13)\n",
    "    model.classifier[1] = nn.Linear(model.classifier[1].in_features, 3).to(device)\n",
    "\n",
    "    # for vit we do not need to modify the first layer because it does not have a convolutional layer\n",
    "    \"\"\"model = ViT(\n",
    "        image_size=224,\n",
    "        patch_size=16,\n",
    "        num_classes=3,\n",
    "        dim=512,\n",
    "        depth=6,\n",
    "        heads=8,\n",
    "        mlp_dim=1024,\n",
    "        channels=13,\n",
    "        dropout=0.1,\n",
    "        emb_dropout=0.1)\"\"\"\n",
    "\n",
    "    # Convert to bfloat16 for training\n",
    "    model = model.to(dtype=Torch_train_dtype, device=device)\n",
    "\n",
    "    # Train the model\n",
    "    model, model_accuracy = train(model, train_dataloader, test_dataloader, num_epochs=20, show_progress=False)  # Train for 20 epochs\n",
    "\n",
    "    if model_accuracy > best_model[\"accuracy\"]:\n",
    "        best_model[\"model\"] = model\n",
    "        best_model[\"accuracy\"] = model_accuracy\n",
    "    models_accuracys.append(model_accuracy)\n",
    "\n",
    "print(f\"Average accuracy: {np.mean(models_accuracys)}\")\n",
    "model = best_model[\"model\"]"
   ],
   "id": "c8fd1af95b391df8",
   "outputs": [
    {
     "data": {
      "text/plain": [
       "  0%|          | 0/5 [00:00<?, ?it/s]"
      ],
      "application/vnd.jupyter.widget-view+json": {
       "version_major": 2,
       "version_minor": 0,
       "model_id": "5bde0293ec8e4fb693b2a88449c84aae"
      }
     },
     "metadata": {},
     "output_type": "display_data"
    },
    {
     "data": {
      "text/plain": [
       "Training Progress:   0%|          | 0/5 [00:00<?, ?it/s]"
      ],
      "application/vnd.jupyter.widget-view+json": {
       "version_major": 2,
       "version_minor": 0,
       "model_id": "2b991c0d146341319b539410722bc138"
      }
     },
     "metadata": {},
     "output_type": "display_data"
    },
    {
     "data": {
      "text/plain": [
       "Training Progress:   0%|          | 0/5 [00:00<?, ?it/s]"
      ],
      "application/vnd.jupyter.widget-view+json": {
       "version_major": 2,
       "version_minor": 0,
       "model_id": "17501af687124edc802045f2a477f53b"
      }
     },
     "metadata": {},
     "output_type": "display_data"
    },
    {
     "data": {
      "text/plain": [
       "Training Progress:   0%|          | 0/5 [00:00<?, ?it/s]"
      ],
      "application/vnd.jupyter.widget-view+json": {
       "version_major": 2,
       "version_minor": 0,
       "model_id": "7f561c562b9c4ecc98c8ac0fe9c0bac5"
      }
     },
     "metadata": {},
     "output_type": "display_data"
    },
    {
     "data": {
      "text/plain": [
       "Training Progress:   0%|          | 0/5 [00:00<?, ?it/s]"
      ],
      "application/vnd.jupyter.widget-view+json": {
       "version_major": 2,
       "version_minor": 0,
       "model_id": "4e6f962d5b594f76882effd4234832ca"
      }
     },
     "metadata": {},
     "output_type": "display_data"
    },
    {
     "data": {
      "text/plain": [
       "Training Progress:   0%|          | 0/5 [00:00<?, ?it/s]"
      ],
      "application/vnd.jupyter.widget-view+json": {
       "version_major": 2,
       "version_minor": 0,
       "model_id": "bd41c3336f5744b283e0fdc3f56b6ad1"
      }
     },
     "metadata": {},
     "output_type": "display_data"
    },
    {
     "data": {
      "text/plain": [
       "Training Progress:   0%|          | 0/5 [00:00<?, ?it/s]"
      ],
      "application/vnd.jupyter.widget-view+json": {
       "version_major": 2,
       "version_minor": 0,
       "model_id": "9e5d9a16567b4a8bb78572b4aa5ae549"
      }
     },
     "metadata": {},
     "output_type": "display_data"
    },
    {
     "data": {
      "text/plain": [
       "Training Progress:   0%|          | 0/5 [00:00<?, ?it/s]"
      ],
      "application/vnd.jupyter.widget-view+json": {
       "version_major": 2,
       "version_minor": 0,
       "model_id": "655b6cc9008c4501a018735344100e2d"
      }
     },
     "metadata": {},
     "output_type": "display_data"
    },
    {
     "data": {
      "text/plain": [
       "Training Progress:   0%|          | 0/5 [00:00<?, ?it/s]"
      ],
      "application/vnd.jupyter.widget-view+json": {
       "version_major": 2,
       "version_minor": 0,
       "model_id": "76dd70e2194041cba89f849519f8a0d9"
      }
     },
     "metadata": {},
     "output_type": "display_data"
    },
    {
     "data": {
      "text/plain": [
       "Training Progress:   0%|          | 0/5 [00:00<?, ?it/s]"
      ],
      "application/vnd.jupyter.widget-view+json": {
       "version_major": 2,
       "version_minor": 0,
       "model_id": "b4a915631db0462d99f4e5d5ea1d056d"
      }
     },
     "metadata": {},
     "output_type": "display_data"
    },
    {
     "data": {
      "text/plain": [
       "Training Progress:   0%|          | 0/5 [00:00<?, ?it/s]"
      ],
      "application/vnd.jupyter.widget-view+json": {
       "version_major": 2,
       "version_minor": 0,
       "model_id": "0b4016083d0b4dacb659d57129ad778a"
      }
     },
     "metadata": {},
     "output_type": "display_data"
    },
    {
     "data": {
      "text/plain": [
       "Training Progress:   0%|          | 0/5 [00:00<?, ?it/s]"
      ],
      "application/vnd.jupyter.widget-view+json": {
       "version_major": 2,
       "version_minor": 0,
       "model_id": "34213deea68648d7a78d489d27811a7d"
      }
     },
     "metadata": {},
     "output_type": "display_data"
    },
    {
     "data": {
      "text/plain": [
       "Training Progress:   0%|          | 0/5 [00:00<?, ?it/s]"
      ],
      "application/vnd.jupyter.widget-view+json": {
       "version_major": 2,
       "version_minor": 0,
       "model_id": "b84f8cdd894d4f17935aec2d4901c123"
      }
     },
     "metadata": {},
     "output_type": "display_data"
    },
    {
     "data": {
      "text/plain": [
       "Training Progress:   0%|          | 0/5 [00:00<?, ?it/s]"
      ],
      "application/vnd.jupyter.widget-view+json": {
       "version_major": 2,
       "version_minor": 0,
       "model_id": "dcc3a4ce24004b439eca19f6b768566d"
      }
     },
     "metadata": {},
     "output_type": "display_data"
    },
    {
     "data": {
      "text/plain": [
       "Training Progress:   0%|          | 0/5 [00:00<?, ?it/s]"
      ],
      "application/vnd.jupyter.widget-view+json": {
       "version_major": 2,
       "version_minor": 0,
       "model_id": "ab127efacdb34e548076eb03785dbeec"
      }
     },
     "metadata": {},
     "output_type": "display_data"
    },
    {
     "data": {
      "text/plain": [
       "Training Progress:   0%|          | 0/5 [00:00<?, ?it/s]"
      ],
      "application/vnd.jupyter.widget-view+json": {
       "version_major": 2,
       "version_minor": 0,
       "model_id": "1cdc4d484348431ea5145e692d9fb3a0"
      }
     },
     "metadata": {},
     "output_type": "display_data"
    },
    {
     "data": {
      "text/plain": [
       "Training Progress:   0%|          | 0/5 [00:00<?, ?it/s]"
      ],
      "application/vnd.jupyter.widget-view+json": {
       "version_major": 2,
       "version_minor": 0,
       "model_id": "87dd25306dcf431596bc9630112f4068"
      }
     },
     "metadata": {},
     "output_type": "display_data"
    },
    {
     "data": {
      "text/plain": [
       "Training Progress:   0%|          | 0/5 [00:00<?, ?it/s]"
      ],
      "application/vnd.jupyter.widget-view+json": {
       "version_major": 2,
       "version_minor": 0,
       "model_id": "17e2e834e89341609b53af902428c11a"
      }
     },
     "metadata": {},
     "output_type": "display_data"
    },
    {
     "data": {
      "text/plain": [
       "Training Progress:   0%|          | 0/5 [00:00<?, ?it/s]"
      ],
      "application/vnd.jupyter.widget-view+json": {
       "version_major": 2,
       "version_minor": 0,
       "model_id": "3779a612262e4d3b9e4bcf5ea0a88452"
      }
     },
     "metadata": {},
     "output_type": "display_data"
    },
    {
     "data": {
      "text/plain": [
       "Training Progress:   0%|          | 0/5 [00:00<?, ?it/s]"
      ],
      "application/vnd.jupyter.widget-view+json": {
       "version_major": 2,
       "version_minor": 0,
       "model_id": "222e314b7ab34a5f8f74872bd68f904d"
      }
     },
     "metadata": {},
     "output_type": "display_data"
    },
    {
     "data": {
      "text/plain": [
       "Training Progress:   0%|          | 0/5 [00:00<?, ?it/s]"
      ],
      "application/vnd.jupyter.widget-view+json": {
       "version_major": 2,
       "version_minor": 0,
       "model_id": "5f3e7097a67640f5977b81d83a8a4494"
      }
     },
     "metadata": {},
     "output_type": "display_data"
    },
    {
     "name": "stdout",
     "output_type": "stream",
     "text": [
      "Best model accuracy: 90.0\n"
     ]
    },
    {
     "data": {
      "text/plain": [
       "Training Progress:   0%|          | 0/5 [00:00<?, ?it/s]"
      ],
      "application/vnd.jupyter.widget-view+json": {
       "version_major": 2,
       "version_minor": 0,
       "model_id": "296cfd411d7c4b678fad35e3c22a60f8"
      }
     },
     "metadata": {},
     "output_type": "display_data"
    },
    {
     "data": {
      "text/plain": [
       "Training Progress:   0%|          | 0/5 [00:00<?, ?it/s]"
      ],
      "application/vnd.jupyter.widget-view+json": {
       "version_major": 2,
       "version_minor": 0,
       "model_id": "80f74a98d2e24ab8bca32082a82cd4f8"
      }
     },
     "metadata": {},
     "output_type": "display_data"
    },
    {
     "data": {
      "text/plain": [
       "Training Progress:   0%|          | 0/5 [00:00<?, ?it/s]"
      ],
      "application/vnd.jupyter.widget-view+json": {
       "version_major": 2,
       "version_minor": 0,
       "model_id": "1ed45c56b576423d967c388f09dd4cb6"
      }
     },
     "metadata": {},
     "output_type": "display_data"
    },
    {
     "data": {
      "text/plain": [
       "Training Progress:   0%|          | 0/5 [00:00<?, ?it/s]"
      ],
      "application/vnd.jupyter.widget-view+json": {
       "version_major": 2,
       "version_minor": 0,
       "model_id": "20eb7527e30842c3aef71c39657f8b36"
      }
     },
     "metadata": {},
     "output_type": "display_data"
    },
    {
     "data": {
      "text/plain": [
       "Training Progress:   0%|          | 0/5 [00:00<?, ?it/s]"
      ],
      "application/vnd.jupyter.widget-view+json": {
       "version_major": 2,
       "version_minor": 0,
       "model_id": "84deb7fce84648008637595298b094a6"
      }
     },
     "metadata": {},
     "output_type": "display_data"
    },
    {
     "data": {
      "text/plain": [
       "Training Progress:   0%|          | 0/5 [00:00<?, ?it/s]"
      ],
      "application/vnd.jupyter.widget-view+json": {
       "version_major": 2,
       "version_minor": 0,
       "model_id": "dd326c1fef04431a9613782b0fa07851"
      }
     },
     "metadata": {},
     "output_type": "display_data"
    },
    {
     "data": {
      "text/plain": [
       "Training Progress:   0%|          | 0/5 [00:00<?, ?it/s]"
      ],
      "application/vnd.jupyter.widget-view+json": {
       "version_major": 2,
       "version_minor": 0,
       "model_id": "b26418cd745c4d209186259ad67a8d6f"
      }
     },
     "metadata": {},
     "output_type": "display_data"
    },
    {
     "data": {
      "text/plain": [
       "Training Progress:   0%|          | 0/5 [00:00<?, ?it/s]"
      ],
      "application/vnd.jupyter.widget-view+json": {
       "version_major": 2,
       "version_minor": 0,
       "model_id": "ee07fb677bd047b8b86808fd652311a2"
      }
     },
     "metadata": {},
     "output_type": "display_data"
    },
    {
     "data": {
      "text/plain": [
       "Training Progress:   0%|          | 0/5 [00:00<?, ?it/s]"
      ],
      "application/vnd.jupyter.widget-view+json": {
       "version_major": 2,
       "version_minor": 0,
       "model_id": "dcec457b80504ff8bc372f943779c335"
      }
     },
     "metadata": {},
     "output_type": "display_data"
    },
    {
     "data": {
      "text/plain": [
       "Training Progress:   0%|          | 0/5 [00:00<?, ?it/s]"
      ],
      "application/vnd.jupyter.widget-view+json": {
       "version_major": 2,
       "version_minor": 0,
       "model_id": "6cdf5a40eaab47debde0b5e1d4e17a6d"
      }
     },
     "metadata": {},
     "output_type": "display_data"
    },
    {
     "data": {
      "text/plain": [
       "Training Progress:   0%|          | 0/5 [00:00<?, ?it/s]"
      ],
      "application/vnd.jupyter.widget-view+json": {
       "version_major": 2,
       "version_minor": 0,
       "model_id": "f281aadadfa2450b8ed90cd4b2b679de"
      }
     },
     "metadata": {},
     "output_type": "display_data"
    },
    {
     "data": {
      "text/plain": [
       "Training Progress:   0%|          | 0/5 [00:00<?, ?it/s]"
      ],
      "application/vnd.jupyter.widget-view+json": {
       "version_major": 2,
       "version_minor": 0,
       "model_id": "6db7a0c254be44c0b506054bf7bdc13f"
      }
     },
     "metadata": {},
     "output_type": "display_data"
    },
    {
     "data": {
      "text/plain": [
       "Training Progress:   0%|          | 0/5 [00:00<?, ?it/s]"
      ],
      "application/vnd.jupyter.widget-view+json": {
       "version_major": 2,
       "version_minor": 0,
       "model_id": "6fd5b75e9df24aa4aec11cc4dd9f9d7f"
      }
     },
     "metadata": {},
     "output_type": "display_data"
    },
    {
     "data": {
      "text/plain": [
       "Training Progress:   0%|          | 0/5 [00:00<?, ?it/s]"
      ],
      "application/vnd.jupyter.widget-view+json": {
       "version_major": 2,
       "version_minor": 0,
       "model_id": "91f9afbf933b42fd8730e9d296d9622b"
      }
     },
     "metadata": {},
     "output_type": "display_data"
    },
    {
     "data": {
      "text/plain": [
       "Training Progress:   0%|          | 0/5 [00:00<?, ?it/s]"
      ],
      "application/vnd.jupyter.widget-view+json": {
       "version_major": 2,
       "version_minor": 0,
       "model_id": "1aadfa19a73442eeb7d5a38600117fd3"
      }
     },
     "metadata": {},
     "output_type": "display_data"
    },
    {
     "data": {
      "text/plain": [
       "Training Progress:   0%|          | 0/5 [00:00<?, ?it/s]"
      ],
      "application/vnd.jupyter.widget-view+json": {
       "version_major": 2,
       "version_minor": 0,
       "model_id": "0df98ed6b67a4d5b828266515e09d3d2"
      }
     },
     "metadata": {},
     "output_type": "display_data"
    },
    {
     "data": {
      "text/plain": [
       "Training Progress:   0%|          | 0/5 [00:00<?, ?it/s]"
      ],
      "application/vnd.jupyter.widget-view+json": {
       "version_major": 2,
       "version_minor": 0,
       "model_id": "fd147dae3f574cbf8d883c82859eecb4"
      }
     },
     "metadata": {},
     "output_type": "display_data"
    },
    {
     "data": {
      "text/plain": [
       "Training Progress:   0%|          | 0/5 [00:00<?, ?it/s]"
      ],
      "application/vnd.jupyter.widget-view+json": {
       "version_major": 2,
       "version_minor": 0,
       "model_id": "def5ea4d20f84e1298e6b7cbcff41425"
      }
     },
     "metadata": {},
     "output_type": "display_data"
    },
    {
     "data": {
      "text/plain": [
       "Training Progress:   0%|          | 0/5 [00:00<?, ?it/s]"
      ],
      "application/vnd.jupyter.widget-view+json": {
       "version_major": 2,
       "version_minor": 0,
       "model_id": "b13d3b269b1e4f0b816acecf3834d7fa"
      }
     },
     "metadata": {},
     "output_type": "display_data"
    },
    {
     "data": {
      "text/plain": [
       "Training Progress:   0%|          | 0/5 [00:00<?, ?it/s]"
      ],
      "application/vnd.jupyter.widget-view+json": {
       "version_major": 2,
       "version_minor": 0,
       "model_id": "be0243275f85473ab7fd9fe8aced1d79"
      }
     },
     "metadata": {},
     "output_type": "display_data"
    },
    {
     "name": "stdout",
     "output_type": "stream",
     "text": [
      "Best model accuracy: 90.0\n"
     ]
    },
    {
     "data": {
      "text/plain": [
       "Training Progress:   0%|          | 0/5 [00:00<?, ?it/s]"
      ],
      "application/vnd.jupyter.widget-view+json": {
       "version_major": 2,
       "version_minor": 0,
       "model_id": "75c026358e8548ccbd4fee0ddd92f4f3"
      }
     },
     "metadata": {},
     "output_type": "display_data"
    },
    {
     "data": {
      "text/plain": [
       "Training Progress:   0%|          | 0/5 [00:00<?, ?it/s]"
      ],
      "application/vnd.jupyter.widget-view+json": {
       "version_major": 2,
       "version_minor": 0,
       "model_id": "3013f2f1d2a6444d99d1553325504013"
      }
     },
     "metadata": {},
     "output_type": "display_data"
    },
    {
     "data": {
      "text/plain": [
       "Training Progress:   0%|          | 0/5 [00:00<?, ?it/s]"
      ],
      "application/vnd.jupyter.widget-view+json": {
       "version_major": 2,
       "version_minor": 0,
       "model_id": "bdef93b4d437472988b1cda756671239"
      }
     },
     "metadata": {},
     "output_type": "display_data"
    },
    {
     "data": {
      "text/plain": [
       "Training Progress:   0%|          | 0/5 [00:00<?, ?it/s]"
      ],
      "application/vnd.jupyter.widget-view+json": {
       "version_major": 2,
       "version_minor": 0,
       "model_id": "095e27d40bb5469ba6925cd3276bdcc5"
      }
     },
     "metadata": {},
     "output_type": "display_data"
    },
    {
     "data": {
      "text/plain": [
       "Training Progress:   0%|          | 0/5 [00:00<?, ?it/s]"
      ],
      "application/vnd.jupyter.widget-view+json": {
       "version_major": 2,
       "version_minor": 0,
       "model_id": "2e1b616d3404466d992faf2fa51b8d1c"
      }
     },
     "metadata": {},
     "output_type": "display_data"
    },
    {
     "data": {
      "text/plain": [
       "Training Progress:   0%|          | 0/5 [00:00<?, ?it/s]"
      ],
      "application/vnd.jupyter.widget-view+json": {
       "version_major": 2,
       "version_minor": 0,
       "model_id": "9e95db514b4c4e12a931009bb0094f98"
      }
     },
     "metadata": {},
     "output_type": "display_data"
    },
    {
     "data": {
      "text/plain": [
       "Training Progress:   0%|          | 0/5 [00:00<?, ?it/s]"
      ],
      "application/vnd.jupyter.widget-view+json": {
       "version_major": 2,
       "version_minor": 0,
       "model_id": "3ee3a34d84d94d3fbb4af5d02befecc6"
      }
     },
     "metadata": {},
     "output_type": "display_data"
    },
    {
     "data": {
      "text/plain": [
       "Training Progress:   0%|          | 0/5 [00:00<?, ?it/s]"
      ],
      "application/vnd.jupyter.widget-view+json": {
       "version_major": 2,
       "version_minor": 0,
       "model_id": "b525dad5afab4ae2a12d25d37134cdd2"
      }
     },
     "metadata": {},
     "output_type": "display_data"
    },
    {
     "data": {
      "text/plain": [
       "Training Progress:   0%|          | 0/5 [00:00<?, ?it/s]"
      ],
      "application/vnd.jupyter.widget-view+json": {
       "version_major": 2,
       "version_minor": 0,
       "model_id": "fb24dad436954788bd61279eb5adcbb0"
      }
     },
     "metadata": {},
     "output_type": "display_data"
    },
    {
     "data": {
      "text/plain": [
       "Training Progress:   0%|          | 0/5 [00:00<?, ?it/s]"
      ],
      "application/vnd.jupyter.widget-view+json": {
       "version_major": 2,
       "version_minor": 0,
       "model_id": "e3e47dbdddfc4c3ca35f3a7a79c393c5"
      }
     },
     "metadata": {},
     "output_type": "display_data"
    },
    {
     "data": {
      "text/plain": [
       "Training Progress:   0%|          | 0/5 [00:00<?, ?it/s]"
      ],
      "application/vnd.jupyter.widget-view+json": {
       "version_major": 2,
       "version_minor": 0,
       "model_id": "40288816274b433788000350102793af"
      }
     },
     "metadata": {},
     "output_type": "display_data"
    },
    {
     "data": {
      "text/plain": [
       "Training Progress:   0%|          | 0/5 [00:00<?, ?it/s]"
      ],
      "application/vnd.jupyter.widget-view+json": {
       "version_major": 2,
       "version_minor": 0,
       "model_id": "72a889d90bf445d580827dad97a4fc45"
      }
     },
     "metadata": {},
     "output_type": "display_data"
    },
    {
     "data": {
      "text/plain": [
       "Training Progress:   0%|          | 0/5 [00:00<?, ?it/s]"
      ],
      "application/vnd.jupyter.widget-view+json": {
       "version_major": 2,
       "version_minor": 0,
       "model_id": "0f867744a05e4719af30b94c731b388c"
      }
     },
     "metadata": {},
     "output_type": "display_data"
    },
    {
     "data": {
      "text/plain": [
       "Training Progress:   0%|          | 0/5 [00:00<?, ?it/s]"
      ],
      "application/vnd.jupyter.widget-view+json": {
       "version_major": 2,
       "version_minor": 0,
       "model_id": "a9e1183dc19e4cb8a4da0df96a13e983"
      }
     },
     "metadata": {},
     "output_type": "display_data"
    },
    {
     "data": {
      "text/plain": [
       "Training Progress:   0%|          | 0/5 [00:00<?, ?it/s]"
      ],
      "application/vnd.jupyter.widget-view+json": {
       "version_major": 2,
       "version_minor": 0,
       "model_id": "a5db24a7f1ec445ba0f52a6a71d22eb6"
      }
     },
     "metadata": {},
     "output_type": "display_data"
    },
    {
     "data": {
      "text/plain": [
       "Training Progress:   0%|          | 0/5 [00:00<?, ?it/s]"
      ],
      "application/vnd.jupyter.widget-view+json": {
       "version_major": 2,
       "version_minor": 0,
       "model_id": "bfa2872797df4dfca27739c969098ee9"
      }
     },
     "metadata": {},
     "output_type": "display_data"
    },
    {
     "data": {
      "text/plain": [
       "Training Progress:   0%|          | 0/5 [00:00<?, ?it/s]"
      ],
      "application/vnd.jupyter.widget-view+json": {
       "version_major": 2,
       "version_minor": 0,
       "model_id": "84ec3e62c3284719b4d51e78bfaa2ec8"
      }
     },
     "metadata": {},
     "output_type": "display_data"
    },
    {
     "data": {
      "text/plain": [
       "Training Progress:   0%|          | 0/5 [00:00<?, ?it/s]"
      ],
      "application/vnd.jupyter.widget-view+json": {
       "version_major": 2,
       "version_minor": 0,
       "model_id": "a0eab3a23fd442f6b9e7c1e0054ffdf7"
      }
     },
     "metadata": {},
     "output_type": "display_data"
    },
    {
     "data": {
      "text/plain": [
       "Training Progress:   0%|          | 0/5 [00:00<?, ?it/s]"
      ],
      "application/vnd.jupyter.widget-view+json": {
       "version_major": 2,
       "version_minor": 0,
       "model_id": "730164d7006c4ff5a2cc7dcb851c4c32"
      }
     },
     "metadata": {},
     "output_type": "display_data"
    },
    {
     "data": {
      "text/plain": [
       "Training Progress:   0%|          | 0/5 [00:00<?, ?it/s]"
      ],
      "application/vnd.jupyter.widget-view+json": {
       "version_major": 2,
       "version_minor": 0,
       "model_id": "c7ba86edf51044019c4ffb6228c2c1b1"
      }
     },
     "metadata": {},
     "output_type": "display_data"
    },
    {
     "name": "stdout",
     "output_type": "stream",
     "text": [
      "Best model accuracy: 91.42857142857143\n"
     ]
    },
    {
     "data": {
      "text/plain": [
       "Training Progress:   0%|          | 0/5 [00:00<?, ?it/s]"
      ],
      "application/vnd.jupyter.widget-view+json": {
       "version_major": 2,
       "version_minor": 0,
       "model_id": "7577d5c56dcf47cc8a700b7d6296a141"
      }
     },
     "metadata": {},
     "output_type": "display_data"
    },
    {
     "data": {
      "text/plain": [
       "Training Progress:   0%|          | 0/5 [00:00<?, ?it/s]"
      ],
      "application/vnd.jupyter.widget-view+json": {
       "version_major": 2,
       "version_minor": 0,
       "model_id": "b6dc1e5b3b704bfd85d7438891bbd9da"
      }
     },
     "metadata": {},
     "output_type": "display_data"
    },
    {
     "data": {
      "text/plain": [
       "Training Progress:   0%|          | 0/5 [00:00<?, ?it/s]"
      ],
      "application/vnd.jupyter.widget-view+json": {
       "version_major": 2,
       "version_minor": 0,
       "model_id": "dbccd59fad69408ca102a3a8b1c61279"
      }
     },
     "metadata": {},
     "output_type": "display_data"
    },
    {
     "data": {
      "text/plain": [
       "Training Progress:   0%|          | 0/5 [00:00<?, ?it/s]"
      ],
      "application/vnd.jupyter.widget-view+json": {
       "version_major": 2,
       "version_minor": 0,
       "model_id": "a53c893683f54319b412b186a2cbd236"
      }
     },
     "metadata": {},
     "output_type": "display_data"
    },
    {
     "data": {
      "text/plain": [
       "Training Progress:   0%|          | 0/5 [00:00<?, ?it/s]"
      ],
      "application/vnd.jupyter.widget-view+json": {
       "version_major": 2,
       "version_minor": 0,
       "model_id": "140bdc2af7b34c36b5803216ffdc897f"
      }
     },
     "metadata": {},
     "output_type": "display_data"
    },
    {
     "data": {
      "text/plain": [
       "Training Progress:   0%|          | 0/5 [00:00<?, ?it/s]"
      ],
      "application/vnd.jupyter.widget-view+json": {
       "version_major": 2,
       "version_minor": 0,
       "model_id": "2e2929ca263f4ad98ae0bed6e7d45319"
      }
     },
     "metadata": {},
     "output_type": "display_data"
    },
    {
     "data": {
      "text/plain": [
       "Training Progress:   0%|          | 0/5 [00:00<?, ?it/s]"
      ],
      "application/vnd.jupyter.widget-view+json": {
       "version_major": 2,
       "version_minor": 0,
       "model_id": "b2c7dc8c16ef4a2ab4042c8b5688207f"
      }
     },
     "metadata": {},
     "output_type": "display_data"
    },
    {
     "data": {
      "text/plain": [
       "Training Progress:   0%|          | 0/5 [00:00<?, ?it/s]"
      ],
      "application/vnd.jupyter.widget-view+json": {
       "version_major": 2,
       "version_minor": 0,
       "model_id": "b238dd14eea04e03aff9ce806e31c638"
      }
     },
     "metadata": {},
     "output_type": "display_data"
    },
    {
     "data": {
      "text/plain": [
       "Training Progress:   0%|          | 0/5 [00:00<?, ?it/s]"
      ],
      "application/vnd.jupyter.widget-view+json": {
       "version_major": 2,
       "version_minor": 0,
       "model_id": "d72e268127ba498986c93c3b35d376d8"
      }
     },
     "metadata": {},
     "output_type": "display_data"
    },
    {
     "data": {
      "text/plain": [
       "Training Progress:   0%|          | 0/5 [00:00<?, ?it/s]"
      ],
      "application/vnd.jupyter.widget-view+json": {
       "version_major": 2,
       "version_minor": 0,
       "model_id": "a0c1b6ed0989447ab4ca0cfe98b3acfe"
      }
     },
     "metadata": {},
     "output_type": "display_data"
    },
    {
     "data": {
      "text/plain": [
       "Training Progress:   0%|          | 0/5 [00:00<?, ?it/s]"
      ],
      "application/vnd.jupyter.widget-view+json": {
       "version_major": 2,
       "version_minor": 0,
       "model_id": "3eb9c4fce8b04bc2bb320d8364aabf0d"
      }
     },
     "metadata": {},
     "output_type": "display_data"
    },
    {
     "data": {
      "text/plain": [
       "Training Progress:   0%|          | 0/5 [00:00<?, ?it/s]"
      ],
      "application/vnd.jupyter.widget-view+json": {
       "version_major": 2,
       "version_minor": 0,
       "model_id": "96bba8aa42394ffbb8dc2710ffc4d691"
      }
     },
     "metadata": {},
     "output_type": "display_data"
    },
    {
     "data": {
      "text/plain": [
       "Training Progress:   0%|          | 0/5 [00:00<?, ?it/s]"
      ],
      "application/vnd.jupyter.widget-view+json": {
       "version_major": 2,
       "version_minor": 0,
       "model_id": "fb1c7a4bdcf74565a8e6a75fd5062abe"
      }
     },
     "metadata": {},
     "output_type": "display_data"
    },
    {
     "data": {
      "text/plain": [
       "Training Progress:   0%|          | 0/5 [00:00<?, ?it/s]"
      ],
      "application/vnd.jupyter.widget-view+json": {
       "version_major": 2,
       "version_minor": 0,
       "model_id": "3f0ff5bcbde347828a617a1c08caea5d"
      }
     },
     "metadata": {},
     "output_type": "display_data"
    },
    {
     "data": {
      "text/plain": [
       "Training Progress:   0%|          | 0/5 [00:00<?, ?it/s]"
      ],
      "application/vnd.jupyter.widget-view+json": {
       "version_major": 2,
       "version_minor": 0,
       "model_id": "28fbabe2164f4d4ca941b24f41e5bbca"
      }
     },
     "metadata": {},
     "output_type": "display_data"
    },
    {
     "data": {
      "text/plain": [
       "Training Progress:   0%|          | 0/5 [00:00<?, ?it/s]"
      ],
      "application/vnd.jupyter.widget-view+json": {
       "version_major": 2,
       "version_minor": 0,
       "model_id": "6a27900150fc44de92d6eae79068dba0"
      }
     },
     "metadata": {},
     "output_type": "display_data"
    },
    {
     "data": {
      "text/plain": [
       "Training Progress:   0%|          | 0/5 [00:00<?, ?it/s]"
      ],
      "application/vnd.jupyter.widget-view+json": {
       "version_major": 2,
       "version_minor": 0,
       "model_id": "345a16a7b7fa430ab4d92be91144cd38"
      }
     },
     "metadata": {},
     "output_type": "display_data"
    },
    {
     "data": {
      "text/plain": [
       "Training Progress:   0%|          | 0/5 [00:00<?, ?it/s]"
      ],
      "application/vnd.jupyter.widget-view+json": {
       "version_major": 2,
       "version_minor": 0,
       "model_id": "6ba0e22329fe46c9af0fa5955d1cd898"
      }
     },
     "metadata": {},
     "output_type": "display_data"
    },
    {
     "data": {
      "text/plain": [
       "Training Progress:   0%|          | 0/5 [00:00<?, ?it/s]"
      ],
      "application/vnd.jupyter.widget-view+json": {
       "version_major": 2,
       "version_minor": 0,
       "model_id": "fd16ddfd6ad64d31ba1ed54dc5e5bbd1"
      }
     },
     "metadata": {},
     "output_type": "display_data"
    },
    {
     "data": {
      "text/plain": [
       "Training Progress:   0%|          | 0/5 [00:00<?, ?it/s]"
      ],
      "application/vnd.jupyter.widget-view+json": {
       "version_major": 2,
       "version_minor": 0,
       "model_id": "528d5703ed5449a59e0491f4b9cf20a7"
      }
     },
     "metadata": {},
     "output_type": "display_data"
    },
    {
     "name": "stdout",
     "output_type": "stream",
     "text": [
      "Best model accuracy: 84.28571428571429\n"
     ]
    },
    {
     "data": {
      "text/plain": [
       "Training Progress:   0%|          | 0/5 [00:00<?, ?it/s]"
      ],
      "application/vnd.jupyter.widget-view+json": {
       "version_major": 2,
       "version_minor": 0,
       "model_id": "25fb7ef7dc5a48daa140235b19d21ff9"
      }
     },
     "metadata": {},
     "output_type": "display_data"
    },
    {
     "data": {
      "text/plain": [
       "Training Progress:   0%|          | 0/5 [00:00<?, ?it/s]"
      ],
      "application/vnd.jupyter.widget-view+json": {
       "version_major": 2,
       "version_minor": 0,
       "model_id": "3ff87a4192524d2290ac490388e00d02"
      }
     },
     "metadata": {},
     "output_type": "display_data"
    },
    {
     "data": {
      "text/plain": [
       "Training Progress:   0%|          | 0/5 [00:00<?, ?it/s]"
      ],
      "application/vnd.jupyter.widget-view+json": {
       "version_major": 2,
       "version_minor": 0,
       "model_id": "16f38aecbb86463c9dd7d22f811366f1"
      }
     },
     "metadata": {},
     "output_type": "display_data"
    },
    {
     "data": {
      "text/plain": [
       "Training Progress:   0%|          | 0/5 [00:00<?, ?it/s]"
      ],
      "application/vnd.jupyter.widget-view+json": {
       "version_major": 2,
       "version_minor": 0,
       "model_id": "6e85365eff2b4156a2ee77460826ef1a"
      }
     },
     "metadata": {},
     "output_type": "display_data"
    },
    {
     "data": {
      "text/plain": [
       "Training Progress:   0%|          | 0/5 [00:00<?, ?it/s]"
      ],
      "application/vnd.jupyter.widget-view+json": {
       "version_major": 2,
       "version_minor": 0,
       "model_id": "d2f1fb026455479eb01cea1a1b8aa2a0"
      }
     },
     "metadata": {},
     "output_type": "display_data"
    },
    {
     "data": {
      "text/plain": [
       "Training Progress:   0%|          | 0/5 [00:00<?, ?it/s]"
      ],
      "application/vnd.jupyter.widget-view+json": {
       "version_major": 2,
       "version_minor": 0,
       "model_id": "6c2a83d533f044469da324074a4a455a"
      }
     },
     "metadata": {},
     "output_type": "display_data"
    },
    {
     "data": {
      "text/plain": [
       "Training Progress:   0%|          | 0/5 [00:00<?, ?it/s]"
      ],
      "application/vnd.jupyter.widget-view+json": {
       "version_major": 2,
       "version_minor": 0,
       "model_id": "7d15bd7f43d44880941adfe1736c66c1"
      }
     },
     "metadata": {},
     "output_type": "display_data"
    },
    {
     "data": {
      "text/plain": [
       "Training Progress:   0%|          | 0/5 [00:00<?, ?it/s]"
      ],
      "application/vnd.jupyter.widget-view+json": {
       "version_major": 2,
       "version_minor": 0,
       "model_id": "06021fbce03a49c886a9f767c768f0c1"
      }
     },
     "metadata": {},
     "output_type": "display_data"
    },
    {
     "data": {
      "text/plain": [
       "Training Progress:   0%|          | 0/5 [00:00<?, ?it/s]"
      ],
      "application/vnd.jupyter.widget-view+json": {
       "version_major": 2,
       "version_minor": 0,
       "model_id": "259411b92eb84d7dbbc015997f52ccdc"
      }
     },
     "metadata": {},
     "output_type": "display_data"
    },
    {
     "data": {
      "text/plain": [
       "Training Progress:   0%|          | 0/5 [00:00<?, ?it/s]"
      ],
      "application/vnd.jupyter.widget-view+json": {
       "version_major": 2,
       "version_minor": 0,
       "model_id": "d6b0be9001794b62859db36bb919b1a1"
      }
     },
     "metadata": {},
     "output_type": "display_data"
    },
    {
     "data": {
      "text/plain": [
       "Training Progress:   0%|          | 0/5 [00:00<?, ?it/s]"
      ],
      "application/vnd.jupyter.widget-view+json": {
       "version_major": 2,
       "version_minor": 0,
       "model_id": "6dfb6df139e242f4bac87aa950b75def"
      }
     },
     "metadata": {},
     "output_type": "display_data"
    },
    {
     "data": {
      "text/plain": [
       "Training Progress:   0%|          | 0/5 [00:00<?, ?it/s]"
      ],
      "application/vnd.jupyter.widget-view+json": {
       "version_major": 2,
       "version_minor": 0,
       "model_id": "d64a6b53fd2c449db31c01840bad13d5"
      }
     },
     "metadata": {},
     "output_type": "display_data"
    },
    {
     "data": {
      "text/plain": [
       "Training Progress:   0%|          | 0/5 [00:00<?, ?it/s]"
      ],
      "application/vnd.jupyter.widget-view+json": {
       "version_major": 2,
       "version_minor": 0,
       "model_id": "543c07c926104ad687e35eb6d0dac830"
      }
     },
     "metadata": {},
     "output_type": "display_data"
    },
    {
     "data": {
      "text/plain": [
       "Training Progress:   0%|          | 0/5 [00:00<?, ?it/s]"
      ],
      "application/vnd.jupyter.widget-view+json": {
       "version_major": 2,
       "version_minor": 0,
       "model_id": "85ef431a55b047ab9fe84f183b333311"
      }
     },
     "metadata": {},
     "output_type": "display_data"
    },
    {
     "data": {
      "text/plain": [
       "Training Progress:   0%|          | 0/5 [00:00<?, ?it/s]"
      ],
      "application/vnd.jupyter.widget-view+json": {
       "version_major": 2,
       "version_minor": 0,
       "model_id": "638e5a4c3ef645789c60df8353c274cc"
      }
     },
     "metadata": {},
     "output_type": "display_data"
    },
    {
     "data": {
      "text/plain": [
       "Training Progress:   0%|          | 0/5 [00:00<?, ?it/s]"
      ],
      "application/vnd.jupyter.widget-view+json": {
       "version_major": 2,
       "version_minor": 0,
       "model_id": "29ec562a40e647419b38517283247e8f"
      }
     },
     "metadata": {},
     "output_type": "display_data"
    },
    {
     "data": {
      "text/plain": [
       "Training Progress:   0%|          | 0/5 [00:00<?, ?it/s]"
      ],
      "application/vnd.jupyter.widget-view+json": {
       "version_major": 2,
       "version_minor": 0,
       "model_id": "547075efa79d4cb199fd2bebf2821d54"
      }
     },
     "metadata": {},
     "output_type": "display_data"
    },
    {
     "data": {
      "text/plain": [
       "Training Progress:   0%|          | 0/5 [00:00<?, ?it/s]"
      ],
      "application/vnd.jupyter.widget-view+json": {
       "version_major": 2,
       "version_minor": 0,
       "model_id": "3839e422ae9944d59d0aa8aa5963e799"
      }
     },
     "metadata": {},
     "output_type": "display_data"
    },
    {
     "data": {
      "text/plain": [
       "Training Progress:   0%|          | 0/5 [00:00<?, ?it/s]"
      ],
      "application/vnd.jupyter.widget-view+json": {
       "version_major": 2,
       "version_minor": 0,
       "model_id": "448ea3f2d544480a96329a8f0e623e40"
      }
     },
     "metadata": {},
     "output_type": "display_data"
    },
    {
     "data": {
      "text/plain": [
       "Training Progress:   0%|          | 0/5 [00:00<?, ?it/s]"
      ],
      "application/vnd.jupyter.widget-view+json": {
       "version_major": 2,
       "version_minor": 0,
       "model_id": "bf446557ec814f75b5d1b9e72b571799"
      }
     },
     "metadata": {},
     "output_type": "display_data"
    },
    {
     "name": "stdout",
     "output_type": "stream",
     "text": [
      "Best model accuracy: 92.85714285714286\n",
      "Average accuracy: 89.71428571428571\n"
     ]
    }
   ],
   "execution_count": 24
  },
  {
   "metadata": {},
   "cell_type": "raw",
   "source": [
    "from sklearn.svm import SVC\n",
    "from sklearn.metrics import accuracy_score, cohen_kappa_score, f1_score\n",
    "\n",
    "# Modelin çıktılarını ve etiketlerini çıkartma\n",
    "def extract_features_and_labels(loader, model):\n",
    "    model.eval()\n",
    "    features, labels = [], []\n",
    "    with torch.no_grad():\n",
    "        for images, lbls in loader:\n",
    "            images = images.to(device)\n",
    "            #images = images.view(images.size(0), -1)\n",
    "            outputs = model(images)\n",
    "            #outputs = outputs.view(outputs.size(0), -1)\n",
    "            outputs = outputs.to(dtype=torch.float32)\n",
    "            features.append(outputs.cpu().numpy())\n",
    "            labels.append(lbls.numpy())\n",
    "    return np.vstack(features), np.hstack(labels)\n",
    "\n",
    "train_features, train_labels = extract_features_and_labels(train_dataloader, model)\n",
    "test_features, test_labels = extract_features_and_labels(test_dataloader, model)"
   ],
   "id": "57f3d03009f72355"
  },
  {
   "metadata": {},
   "cell_type": "raw",
   "source": [
    "# SVM Training\n",
    "svm = SVC(kernel='sigmoid')\n",
    "svm.fit(train_features, train_labels)\n",
    "\n",
    "# Test verilerinde değerlendirme\n",
    "predictions = svm.predict(test_features)\n",
    "accuracy = accuracy_score(test_labels, predictions)\n",
    "kappa = cohen_kappa_score(test_labels, predictions)\n",
    "f1 = f1_score(test_labels, predictions, average='weighted')\n",
    "\n",
    "print(f\"Accuracy: {accuracy:}, Kappa: {kappa:}, F1-score: {f1:}\")"
   ],
   "id": "5d7cbec7d9bc569f"
  },
  {
   "metadata": {},
   "cell_type": "raw",
   "source": [
    "from sklearn.feature_selection import VarianceThreshold\n",
    "from sklearn.pipeline import make_pipeline\n",
    "\n",
    "# Feature selection pipeline\n",
    "pipeline = make_pipeline(\n",
    "    VarianceThreshold(),  # Remove features with zero variance\n",
    "    SVC(kernel='sigmoid')\n",
    ")\n",
    "\n",
    "# Train the model\n",
    "pipeline.fit(train_features, train_labels)\n",
    "predictions = pipeline.predict(test_features)\n",
    "accuracy = accuracy_score(test_labels, predictions)\n",
    "kappa = cohen_kappa_score(test_labels, predictions)\n",
    "f1 = f1_score(test_labels, predictions, average='weighted')\n",
    "\n",
    "print(f\"Accuracy: {accuracy:}, Kappa: {kappa:}, F1-score: {f1:}\")"
   ],
   "id": "9199aaa54b633ede"
  }
 ],
 "metadata": {
  "kernelspec": {
   "display_name": "Python 3",
   "language": "python",
   "name": "python3"
  },
  "language_info": {
   "codemirror_mode": {
    "name": "ipython",
    "version": 2
   },
   "file_extension": ".py",
   "mimetype": "text/x-python",
   "name": "python",
   "nbconvert_exporter": "python",
   "pygments_lexer": "ipython2",
   "version": "2.7.6"
  }
 },
 "nbformat": 4,
 "nbformat_minor": 5
}
