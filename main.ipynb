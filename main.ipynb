{
 "cells": [
  {
   "cell_type": "code",
   "id": "initial_id",
   "metadata": {
    "collapsed": true,
    "ExecuteTime": {
     "end_time": "2024-12-27T19:55:45.356833Z",
     "start_time": "2024-12-27T19:55:43.118436Z"
    }
   },
   "source": [
    "import torch.nn as nn\n",
    "import torch\n",
    "import torchvision\n",
    "from sklearn.model_selection import train_test_split\n",
    "from torchvision import models\n",
    "from torchvision.models import efficientnet_v2_s\n",
    "from torchvision.transforms import v2\n",
    "from torchvision import datasets\n",
    "from tqdm.auto import tqdm\n",
    "from torch.optim.lr_scheduler import StepLR\n",
    "import numpy as np\n",
    "\n",
    "#PYTORCH_MPS_HIGH_WATERMARK_RATIO=0.0 # mps de memory overflow hatası alıyorsanız bu satırı ekleyin colabde mps yok\n"
   ],
   "outputs": [],
   "execution_count": 1
  },
  {
   "metadata": {},
   "cell_type": "raw",
   "source": [
    "# Gerekirse Google Drive'ı bağlamak için\n",
    "from google.colab import drive\n",
    "drive.mount('/content/drive')"
   ],
   "id": "a26e943bad72d596"
  },
  {
   "metadata": {
    "ExecuteTime": {
     "end_time": "2024-12-27T19:55:45.940975Z",
     "start_time": "2024-12-27T19:55:45.359526Z"
    }
   },
   "cell_type": "code",
   "source": [
    "data_dir = \"dataset/\" # colab de data_dir = \"drive/MyDrive/dataset/\"\n",
    "if torch.cuda.is_available():\n",
    "    device = torch.device(\"cuda\")\n",
    "elif torch.mps.is_available():\n",
    "    device = torch.device(\"mps\")\n",
    "    # mps is for apple\n",
    "else:\n",
    "    device = torch.device(\"cpu\")\n",
    "    # if you use cpu probably you will get memory error or it will take too long time\n",
    "\n",
    "transform = v2.Compose([\n",
    "    v2.Resize((224, 224)),\n",
    "    #v2.RandomHorizontalFlip(p=0.5),  # Yatay çevirme\n",
    "    #v2.RandomRotation(degrees=5),  # Hafif döndürme\n",
    "    #v2.ColorJitter(brightness=0.1, contrast=0.1, saturation=0.1, hue=0.05),  # Renk artırma\n",
    "    #v2.GaussianBlur(kernel_size=(5, 9), sigma=(0.1, 2.0)),  # Gaussian bulanıklık\n",
    "    #v2.RandomResizedCrop((224, 224), scale=(0.8, 1.0)),  # Rastgele kırpma\n",
    "    #v2.RandomErasing(p=0.3, scale=(0.02, 0.1), ratio=(0.3, 3.3)),  # Rastgele silme\n",
    "    v2.ToImage(),\n",
    "    v2.ToDtype(torch.bfloat16, scale=True),\n",
    "    v2.Normalize(mean=[0.485, 0.456, 0.406], std=[0.229, 0.224, 0.225])\n",
    "])\n",
    "\n",
    "dataset = datasets.ImageFolder(data_dir, transform=transform)\n",
    "train_dataset, test_dataset = train_test_split(dataset, test_size=0.33, stratify=dataset.targets)\n",
    "train_dataloader = torch.utils.data.DataLoader(train_dataset, batch_size=32, shuffle=True)\n",
    "test_dataloader = torch.utils.data.DataLoader(test_dataset, batch_size=32, shuffle=False)\n",
    "\n",
    "# burada classlar arasında eşitsizlik olduğundan classlar arasında dengesizlik olabilir. Bu durumda classlar arasında dengesizliği gidermek için cross entropy loss fonksiyonuna class_weights parametresi ekledim.\n",
    "class_counts = np.bincount(dataset.targets)\n",
    "class_weights = 1.0 / torch.tensor(class_counts, dtype=torch.bfloat16)"
   ],
   "id": "59f2b991319ae85d",
   "outputs": [],
   "execution_count": 2
  },
  {
   "metadata": {
    "ExecuteTime": {
     "end_time": "2024-12-27T19:55:46.045264Z",
     "start_time": "2024-12-27T19:55:46.041310Z"
    }
   },
   "cell_type": "code",
   "source": [
    "def train(model, train_loader, test_loader, num_epochs=20):\n",
    "    loss_fn = nn.CrossEntropyLoss(weight=class_weights.to(device))\n",
    "    optimizer = torch.optim.Adam(model.parameters(), lr=0.001)\n",
    "    scheduler = StepLR(optimizer, step_size=5, gamma=0.1)  # Her *** epoch'ta LR %10'a düşer overfittin ihtimalini azaltmak için yinede cok random bir parametre olmasada olur\n",
    "\n",
    "    total_accuracy = 0\n",
    "\n",
    "    # overfitting i engellemek için en iyi modeli seciyor\n",
    "    best_model = {\"model\": None, \"accuracy\": 0, \"test_loss\": float(\"inf\")}\n",
    "    for epoch in range(num_epochs):\n",
    "        model.train()  # Set model to training mode\n",
    "        train_loss = 0.0\n",
    "\n",
    "        # Training loop\n",
    "        for inputs, labels in tqdm(train_loader, desc=\"Training Progress\"):\n",
    "\n",
    "            #inputs = inputs.view(inputs.size(0), -1) # Flatten the input data\n",
    "\n",
    "            inputs, labels = inputs.to(device), labels.to(device)\n",
    "\n",
    "            optimizer.zero_grad()\n",
    "            outputs = model(inputs)\n",
    "            loss = loss_fn(outputs, labels)\n",
    "            loss.backward()\n",
    "            optimizer.step()\n",
    "\n",
    "            train_loss += loss.item()\n",
    "\n",
    "        # Evaluation\n",
    "        model.eval()  # Set model to evaluation mode\n",
    "        test_loss = 0.0\n",
    "        correct = 0\n",
    "        total = 0\n",
    "        with torch.no_grad(): # Gradients are not calculated in this block\n",
    "            for inputs, labels in test_loader:\n",
    "                #inputs = inputs.view(inputs.size(0), -1)\n",
    "                inputs, labels = inputs.to(device), labels.to(device)\n",
    "                outputs = model(inputs)\n",
    "                loss = loss_fn(outputs, labels)\n",
    "                test_loss += loss.item()\n",
    "\n",
    "                # Calculate accuracy\n",
    "                _, predicted = torch.max(outputs, 1)\n",
    "                total += labels.size(0)\n",
    "                correct += (predicted == labels).sum().item()\n",
    "\n",
    "        train_loss /= len(train_loader)  # Average training loss\n",
    "        test_loss /= len(test_loader)  # Average test loss\n",
    "        accuracy = 100 * correct / total  # Test accuracy\n",
    "        total_accuracy += accuracy\n",
    "        print(f\"Epoch {epoch+1}/{num_epochs}, Training Loss: {train_loss:}, Test Loss: {test_loss:}, Accuracy: {accuracy:}%\")\n",
    "        scheduler.step()\n",
    "        if accuracy > best_model[\"accuracy\"]:\n",
    "            if test_loss < best_model[\"test_loss\"]:\n",
    "                best_model[\"model\"] = model\n",
    "                best_model[\"accuracy\"] = accuracy\n",
    "                best_model[\"test_loss\"] = test_loss\n",
    "    print(f\"Best model accuracy: {best_model['accuracy']}\")\n",
    "\n",
    "    return best_model[\"model\"]"
   ],
   "id": "a1e03078584d877d",
   "outputs": [],
   "execution_count": 3
  },
  {
   "metadata": {
    "ExecuteTime": {
     "end_time": "2024-12-27T19:57:33.312979Z",
     "start_time": "2024-12-27T19:55:46.055871Z"
    }
   },
   "cell_type": "code",
   "source": [
    "from torchvision.models import EfficientNet_V2_S_Weights\n",
    "model = models.efficientnet_v2_s(weights=EfficientNet_V2_S_Weights.DEFAULT).to(device)\n",
    "\n",
    "model.classifier[1] = nn.Linear(model.classifier[1].in_features, 3).to(device) #son 1000 olan katmanı 3 yaptık çünkü 3 sınıf var\n",
    "model = model.to(torch.bfloat16)\n",
    "model = train(model, train_dataloader, test_dataloader, num_epochs=20) # orijinal paperda 20 epoch kullanılmış bu yüzden max 20 yaptım"
   ],
   "id": "c8fd1af95b391df8",
   "outputs": [
    {
     "data": {
      "text/plain": [
       "Training Progress:   0%|          | 0/5 [00:00<?, ?it/s]"
      ],
      "application/vnd.jupyter.widget-view+json": {
       "version_major": 2,
       "version_minor": 0,
       "model_id": "c8d79b2edd064ed1bec054d2634e4cea"
      }
     },
     "metadata": {},
     "output_type": "display_data"
    },
    {
     "name": "stdout",
     "output_type": "stream",
     "text": [
      "Epoch 1/20, Training Loss: 0.8703125, Test Loss: 1.5390625, Accuracy: 34.285714285714285%\n"
     ]
    },
    {
     "data": {
      "text/plain": [
       "Training Progress:   0%|          | 0/5 [00:00<?, ?it/s]"
      ],
      "application/vnd.jupyter.widget-view+json": {
       "version_major": 2,
       "version_minor": 0,
       "model_id": "501071b1a302450ca96943a85fbc3bd1"
      }
     },
     "metadata": {},
     "output_type": "display_data"
    },
    {
     "name": "stdout",
     "output_type": "stream",
     "text": [
      "Epoch 2/20, Training Loss: 0.566015625, Test Loss: 2.0, Accuracy: 51.42857142857143%\n"
     ]
    },
    {
     "data": {
      "text/plain": [
       "Training Progress:   0%|          | 0/5 [00:00<?, ?it/s]"
      ],
      "application/vnd.jupyter.widget-view+json": {
       "version_major": 2,
       "version_minor": 0,
       "model_id": "d14a811ba81448deab773276ecd4398c"
      }
     },
     "metadata": {},
     "output_type": "display_data"
    },
    {
     "name": "stdout",
     "output_type": "stream",
     "text": [
      "Epoch 3/20, Training Loss: 0.3203125, Test Loss: 0.9921875, Accuracy: 77.14285714285714%\n"
     ]
    },
    {
     "data": {
      "text/plain": [
       "Training Progress:   0%|          | 0/5 [00:00<?, ?it/s]"
      ],
      "application/vnd.jupyter.widget-view+json": {
       "version_major": 2,
       "version_minor": 0,
       "model_id": "3a9caf2372de4ec080a8ac86cfdb1912"
      }
     },
     "metadata": {},
     "output_type": "display_data"
    },
    {
     "name": "stdout",
     "output_type": "stream",
     "text": [
      "Epoch 4/20, Training Loss: 0.32158203125, Test Loss: 1.0364583333333333, Accuracy: 80.0%\n"
     ]
    },
    {
     "data": {
      "text/plain": [
       "Training Progress:   0%|          | 0/5 [00:00<?, ?it/s]"
      ],
      "application/vnd.jupyter.widget-view+json": {
       "version_major": 2,
       "version_minor": 0,
       "model_id": "e32eb9f3ff1843ebb061591d19e6710a"
      }
     },
     "metadata": {},
     "output_type": "display_data"
    },
    {
     "name": "stdout",
     "output_type": "stream",
     "text": [
      "Epoch 5/20, Training Loss: 0.20810546875, Test Loss: 0.9654947916666666, Accuracy: 85.71428571428571%\n"
     ]
    },
    {
     "data": {
      "text/plain": [
       "Training Progress:   0%|          | 0/5 [00:00<?, ?it/s]"
      ],
      "application/vnd.jupyter.widget-view+json": {
       "version_major": 2,
       "version_minor": 0,
       "model_id": "1f97c647056a433192b10b65c2b659af"
      }
     },
     "metadata": {},
     "output_type": "display_data"
    },
    {
     "name": "stdout",
     "output_type": "stream",
     "text": [
      "Epoch 6/20, Training Loss: 0.164892578125, Test Loss: 0.75390625, Accuracy: 88.57142857142857%\n"
     ]
    },
    {
     "data": {
      "text/plain": [
       "Training Progress:   0%|          | 0/5 [00:00<?, ?it/s]"
      ],
      "application/vnd.jupyter.widget-view+json": {
       "version_major": 2,
       "version_minor": 0,
       "model_id": "25979e864c50437097ddf5f3939b0167"
      }
     },
     "metadata": {},
     "output_type": "display_data"
    },
    {
     "name": "stdout",
     "output_type": "stream",
     "text": [
      "Epoch 7/20, Training Loss: 0.0662841796875, Test Loss: 0.6005859375, Accuracy: 90.0%\n"
     ]
    },
    {
     "data": {
      "text/plain": [
       "Training Progress:   0%|          | 0/5 [00:00<?, ?it/s]"
      ],
      "application/vnd.jupyter.widget-view+json": {
       "version_major": 2,
       "version_minor": 0,
       "model_id": "234b47e126f140efbf718ff3fff744cf"
      }
     },
     "metadata": {},
     "output_type": "display_data"
    },
    {
     "name": "stdout",
     "output_type": "stream",
     "text": [
      "Epoch 8/20, Training Loss: 0.055126953125, Test Loss: 0.5400390625, Accuracy: 90.0%\n"
     ]
    },
    {
     "data": {
      "text/plain": [
       "Training Progress:   0%|          | 0/5 [00:00<?, ?it/s]"
      ],
      "application/vnd.jupyter.widget-view+json": {
       "version_major": 2,
       "version_minor": 0,
       "model_id": "2d73afec713649998b5ebda24dc10151"
      }
     },
     "metadata": {},
     "output_type": "display_data"
    },
    {
     "name": "stdout",
     "output_type": "stream",
     "text": [
      "Epoch 9/20, Training Loss: 0.042822265625, Test Loss: 0.5115559895833334, Accuracy: 88.57142857142857%\n"
     ]
    },
    {
     "data": {
      "text/plain": [
       "Training Progress:   0%|          | 0/5 [00:00<?, ?it/s]"
      ],
      "application/vnd.jupyter.widget-view+json": {
       "version_major": 2,
       "version_minor": 0,
       "model_id": "ca0015060eca494d99d88aaaaceffb2f"
      }
     },
     "metadata": {},
     "output_type": "display_data"
    },
    {
     "name": "stdout",
     "output_type": "stream",
     "text": [
      "Epoch 10/20, Training Loss: 0.03974609375, Test Loss: 0.43896484375, Accuracy: 91.42857142857143%\n"
     ]
    },
    {
     "data": {
      "text/plain": [
       "Training Progress:   0%|          | 0/5 [00:00<?, ?it/s]"
      ],
      "application/vnd.jupyter.widget-view+json": {
       "version_major": 2,
       "version_minor": 0,
       "model_id": "3f808cc435a145da9637180c9903d584"
      }
     },
     "metadata": {},
     "output_type": "display_data"
    },
    {
     "name": "stdout",
     "output_type": "stream",
     "text": [
      "Epoch 11/20, Training Loss: 0.0359130859375, Test Loss: 0.4176432291666667, Accuracy: 90.0%\n"
     ]
    },
    {
     "data": {
      "text/plain": [
       "Training Progress:   0%|          | 0/5 [00:00<?, ?it/s]"
      ],
      "application/vnd.jupyter.widget-view+json": {
       "version_major": 2,
       "version_minor": 0,
       "model_id": "3eb361e6b423424aa87f7937029a0479"
      }
     },
     "metadata": {},
     "output_type": "display_data"
    },
    {
     "name": "stdout",
     "output_type": "stream",
     "text": [
      "Epoch 12/20, Training Loss: 0.0398681640625, Test Loss: 0.4202473958333333, Accuracy: 91.42857142857143%\n"
     ]
    },
    {
     "data": {
      "text/plain": [
       "Training Progress:   0%|          | 0/5 [00:00<?, ?it/s]"
      ],
      "application/vnd.jupyter.widget-view+json": {
       "version_major": 2,
       "version_minor": 0,
       "model_id": "b76904f9040e493fa8b2302437225497"
      }
     },
     "metadata": {},
     "output_type": "display_data"
    },
    {
     "name": "stdout",
     "output_type": "stream",
     "text": [
      "Epoch 13/20, Training Loss: 0.0691162109375, Test Loss: 0.4041341145833333, Accuracy: 90.0%\n"
     ]
    },
    {
     "data": {
      "text/plain": [
       "Training Progress:   0%|          | 0/5 [00:00<?, ?it/s]"
      ],
      "application/vnd.jupyter.widget-view+json": {
       "version_major": 2,
       "version_minor": 0,
       "model_id": "4ee9515985dc4b70bb00fd5bad658f89"
      }
     },
     "metadata": {},
     "output_type": "display_data"
    },
    {
     "name": "stdout",
     "output_type": "stream",
     "text": [
      "Epoch 14/20, Training Loss: 0.0514892578125, Test Loss: 0.4060872395833333, Accuracy: 91.42857142857143%\n"
     ]
    },
    {
     "data": {
      "text/plain": [
       "Training Progress:   0%|          | 0/5 [00:00<?, ?it/s]"
      ],
      "application/vnd.jupyter.widget-view+json": {
       "version_major": 2,
       "version_minor": 0,
       "model_id": "9f85f33f4d30425194dd4db039a87d47"
      }
     },
     "metadata": {},
     "output_type": "display_data"
    },
    {
     "name": "stdout",
     "output_type": "stream",
     "text": [
      "Epoch 15/20, Training Loss: 0.04365234375, Test Loss: 0.3834635416666667, Accuracy: 92.85714285714286%\n"
     ]
    },
    {
     "data": {
      "text/plain": [
       "Training Progress:   0%|          | 0/5 [00:00<?, ?it/s]"
      ],
      "application/vnd.jupyter.widget-view+json": {
       "version_major": 2,
       "version_minor": 0,
       "model_id": "be73939b11e347379ca70c849dfea7d9"
      }
     },
     "metadata": {},
     "output_type": "display_data"
    },
    {
     "name": "stdout",
     "output_type": "stream",
     "text": [
      "Epoch 16/20, Training Loss: 0.0653076171875, Test Loss: 0.4150390625, Accuracy: 91.42857142857143%\n"
     ]
    },
    {
     "data": {
      "text/plain": [
       "Training Progress:   0%|          | 0/5 [00:00<?, ?it/s]"
      ],
      "application/vnd.jupyter.widget-view+json": {
       "version_major": 2,
       "version_minor": 0,
       "model_id": "f09391db7e644553b420dc632051c74a"
      }
     },
     "metadata": {},
     "output_type": "display_data"
    },
    {
     "name": "stdout",
     "output_type": "stream",
     "text": [
      "Epoch 17/20, Training Loss: 0.02900390625, Test Loss: 0.4031575520833333, Accuracy: 91.42857142857143%\n"
     ]
    },
    {
     "data": {
      "text/plain": [
       "Training Progress:   0%|          | 0/5 [00:00<?, ?it/s]"
      ],
      "application/vnd.jupyter.widget-view+json": {
       "version_major": 2,
       "version_minor": 0,
       "model_id": "9228cd10728e41afae02a42484ae02f3"
      }
     },
     "metadata": {},
     "output_type": "display_data"
    },
    {
     "name": "stdout",
     "output_type": "stream",
     "text": [
      "Epoch 18/20, Training Loss: 0.06396484375, Test Loss: 0.3878580729166667, Accuracy: 91.42857142857143%\n"
     ]
    },
    {
     "data": {
      "text/plain": [
       "Training Progress:   0%|          | 0/5 [00:00<?, ?it/s]"
      ],
      "application/vnd.jupyter.widget-view+json": {
       "version_major": 2,
       "version_minor": 0,
       "model_id": "d024b827b7cd4490b919b4d7a90b7b69"
      }
     },
     "metadata": {},
     "output_type": "display_data"
    },
    {
     "name": "stdout",
     "output_type": "stream",
     "text": [
      "Epoch 19/20, Training Loss: 0.04095458984375, Test Loss: 0.38671875, Accuracy: 91.42857142857143%\n"
     ]
    },
    {
     "data": {
      "text/plain": [
       "Training Progress:   0%|          | 0/5 [00:00<?, ?it/s]"
      ],
      "application/vnd.jupyter.widget-view+json": {
       "version_major": 2,
       "version_minor": 0,
       "model_id": "8d689d9ce80644eb8075f2c8f34690d6"
      }
     },
     "metadata": {},
     "output_type": "display_data"
    },
    {
     "name": "stdout",
     "output_type": "stream",
     "text": [
      "Epoch 20/20, Training Loss: 0.1075927734375, Test Loss: 0.4142252604166667, Accuracy: 91.42857142857143%\n",
      "Best model accuracy: 92.85714285714286\n"
     ]
    }
   ],
   "execution_count": 4
  },
  {
   "metadata": {
    "ExecuteTime": {
     "end_time": "2024-12-27T19:59:41.582202Z",
     "start_time": "2024-12-27T19:59:39.651280Z"
    }
   },
   "cell_type": "code",
   "source": [
    "from sklearn.svm import SVC\n",
    "from sklearn.metrics import accuracy_score, cohen_kappa_score, f1_score\n",
    "\n",
    "# Modelin çıktılarını ve etiketlerini çıkartma\n",
    "def extract_features_and_labels(loader, model):\n",
    "    model.eval()\n",
    "    features, labels = [], []\n",
    "    with torch.no_grad():\n",
    "        for images, lbls in loader:\n",
    "            images = images.to(device)\n",
    "            #images = images.view(images.size(0), -1)\n",
    "            outputs = model(images)\n",
    "            #outputs = outputs.view(outputs.size(0), -1)\n",
    "            outputs = outputs.to(torch.float32)\n",
    "            features.append(outputs.cpu().numpy())\n",
    "            labels.append(lbls.numpy())\n",
    "    return np.vstack(features), np.hstack(labels)\n",
    "\n",
    "train_features, train_labels = extract_features_and_labels(train_dataloader, model)\n",
    "test_features, test_labels = extract_features_and_labels(test_dataloader, model)"
   ],
   "id": "b93d125b47dde18b",
   "outputs": [],
   "execution_count": 6
  },
  {
   "metadata": {
    "ExecuteTime": {
     "end_time": "2024-12-27T19:59:42.824534Z",
     "start_time": "2024-12-27T19:59:42.814633Z"
    }
   },
   "cell_type": "code",
   "source": [
    "# SVM eğitimi\n",
    "svm = SVC(kernel='linear')\n",
    "svm.fit(train_features, train_labels)\n",
    "\n",
    "# Test verilerinde değerlendirme\n",
    "predictions = svm.predict(test_features)\n",
    "accuracy = accuracy_score(test_labels, predictions)\n",
    "kappa = cohen_kappa_score(test_labels, predictions)\n",
    "f1 = f1_score(test_labels, predictions, average='weighted')\n",
    "\n",
    "print(f\"Accuracy: {accuracy:}, Kappa: {kappa:}, F1-score: {f1:}\")"
   ],
   "id": "92d3bbcf8a136bc1",
   "outputs": [
    {
     "name": "stdout",
     "output_type": "stream",
     "text": [
      "Accuracy: 0.9285714285714286, Kappa: 0.8856582816073179, F1-score: 0.9286416286416288\n"
     ]
    }
   ],
   "execution_count": 7
  }
 ],
 "metadata": {
  "kernelspec": {
   "display_name": "Python 3",
   "language": "python",
   "name": "python3"
  },
  "language_info": {
   "codemirror_mode": {
    "name": "ipython",
    "version": 2
   },
   "file_extension": ".py",
   "mimetype": "text/x-python",
   "name": "python",
   "nbconvert_exporter": "python",
   "pygments_lexer": "ipython2",
   "version": "2.7.6"
  }
 },
 "nbformat": 4,
 "nbformat_minor": 5
}
